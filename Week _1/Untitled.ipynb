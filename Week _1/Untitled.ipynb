{
 "cells": [
  {
   "cell_type": "code",
   "execution_count": 3,
   "id": "70b0e89f",
   "metadata": {},
   "outputs": [
    {
     "name": "stdout",
     "output_type": "stream",
     "text": [
      "Enter the principal amount: 2\n",
      "Enter the rate of interest: 2\n",
      "Enter the time period (in years): 2\n",
      "Simple Interest =  0.08\n"
     ]
    }
   ],
   "source": [
    "# Taking input from the user\n",
    "principal = float(input(\"Enter the principal amount: \"))\n",
    "rate = float(input(\"Enter the rate of interest: \"))\n",
    "time = float(input(\"Enter the time period (in years): \"))\n",
    "\n",
    "# Calculating simple interest\n",
    "interest = (principal * rate/100 * 1 *time) \n",
    "\n",
    "# Printing the result\n",
    "print(\"Simple Interest = \", interest)\n"
   ]
  },
  {
   "cell_type": "code",
   "execution_count": 4,
   "id": "82c8c38c",
   "metadata": {},
   "outputs": [
    {
     "name": "stdout",
     "output_type": "stream",
     "text": [
      "Enter the principal amount: 333333333\n",
      "Enter the rate of interest: 22\n",
      "Enter the time period (in years): 2\n",
      "n: 1\n",
      "Compound Interest =  0.08\n"
     ]
    }
   ],
   "source": [
    "# Taking input from the user\n",
    "principal = float(input(\"Enter the principal amount: \"))\n",
    "rate = float(input(\"Enter the rate of interest: \"))\n",
    "time = float(input(\"Enter the time period (in years): \"))\n",
    "n = int(input(\"n: \"))\n",
    "\n",
    "# Calculating compound interest\n",
    "amount = principal * ((1 + (rate/100)/n)**(n*time))\n",
    "\n",
    "\n",
    "# Printing the result\n",
    "print(\"Compound Interest = \", interest)\n"
   ]
  },
  {
   "cell_type": "code",
   "execution_count": 5,
   "id": "a92b15fe",
   "metadata": {},
   "outputs": [
    {
     "name": "stdout",
     "output_type": "stream",
     "text": [
      "Enter the principal amount: 22222222\n",
      "Enter the rate of interest: 2\n",
      "Enter the time period (in years): 2\n",
      "Enter the number of payments per year: 2\n",
      "Annuity Payment =  5836083.334334443\n"
     ]
    }
   ],
   "source": [
    "# Taking input from the user\n",
    "principal = float(input(\"Enter the principal amount: \"))\n",
    "rate = float(input(\"Enter the rate of interest: \"))\n",
    "time = float(input(\"Enter the time period (in years): \"))\n",
    "payments_per_year = int(input(\"Enter the number of payments per year: \"))\n",
    "\n",
    "# Calculating annuity payment\n",
    "annuity_payment = (principal * rate/100)/(1 - (1 + rate/100)**(-time*payments_per_year))\n",
    "\n",
    "# Printing the result\n",
    "print(\"Annuity Payment = \", annuity_payment)\n"
   ]
  },
  {
   "cell_type": "code",
   "execution_count": null,
   "id": "a81acc76",
   "metadata": {},
   "outputs": [],
   "source": []
  }
 ],
 "metadata": {
  "kernelspec": {
   "display_name": "Python 3 (ipykernel)",
   "language": "python",
   "name": "python3"
  },
  "language_info": {
   "codemirror_mode": {
    "name": "ipython",
    "version": 3
   },
   "file_extension": ".py",
   "mimetype": "text/x-python",
   "name": "python",
   "nbconvert_exporter": "python",
   "pygments_lexer": "ipython3",
   "version": "3.10.9"
  }
 },
 "nbformat": 4,
 "nbformat_minor": 5
}
