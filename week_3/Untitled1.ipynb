{
 "cells": [
  {
   "cell_type": "code",
   "execution_count": 2,
   "id": "f5396e64",
   "metadata": {},
   "outputs": [
    {
     "name": "stdout",
     "output_type": "stream",
     "text": [
      "First numbers: 2\n",
      "Second number: 3\n",
      "Third number: 4\n",
      "Fourth number: 5\n",
      "The first root is:  -1.5\n",
      "The second root is:  2.0\n",
      "The third root is:  -2.5\n"
     ]
    }
   ],
   "source": [
    "\n",
    "A  = float(input(\"First numbers: \"))\n",
    "B  = float(input(\"Second number: \"))\n",
    "C  = float(input(\"Third number: \"))\n",
    "D  = float(input(\"Fourth number: \"))\n",
    "\n",
    "Root_1 = -B/A\n",
    "Root_2 =  C/A\n",
    "Root_3 = -D/A\n",
    "\n",
    "print (\"The first root is: \",Root_1)\n",
    "print (\"The second root is: \",Root_2)\n",
    "print (\"The third root is: \",Root_3)\n",
    "\n"
   ]
  },
  {
   "cell_type": "code",
   "execution_count": 12,
   "id": "d91da398",
   "metadata": {},
   "outputs": [
    {
     "name": "stdout",
     "output_type": "stream",
     "text": [
      "First numbers: 4\n",
      "Second number: 5\n",
      "Third number: 5\n",
      "Fourth number: 6\n",
      "The first  is:  -1.25\n",
      "The second  is:  1.25\n",
      "The third  is:  -1.5\n"
     ]
    },
    {
     "ename": "ValueError",
     "evalue": "math domain error",
     "output_type": "error",
     "traceback": [
      "\u001b[1;31m---------------------------------------------------------------------------\u001b[0m",
      "\u001b[1;31mValueError\u001b[0m                                Traceback (most recent call last)",
      "Cell \u001b[1;32mIn[12], line 17\u001b[0m\n\u001b[0;32m     14\u001b[0m \u001b[38;5;28mprint\u001b[39m (\u001b[38;5;124m\"\u001b[39m\u001b[38;5;124mThe third  is: \u001b[39m\u001b[38;5;124m\"\u001b[39m,X)\n\u001b[0;32m     16\u001b[0m J \u001b[38;5;241m=\u001b[39m (Y\u001b[38;5;241m+\u001b[39mE\u001b[38;5;241m+\u001b[39mX)\u001b[38;5;241m/\u001b[39m\u001b[38;5;241m2\u001b[39m\n\u001b[1;32m---> 17\u001b[0m R1 \u001b[38;5;241m=\u001b[39m \u001b[43mmath\u001b[49m\u001b[38;5;241;43m.\u001b[39;49m\u001b[43msqrt\u001b[49m\u001b[43m(\u001b[49m\u001b[43mJ\u001b[49m\u001b[43m)\u001b[49m\n\u001b[0;32m     20\u001b[0m \u001b[38;5;28mprint\u001b[39m (\u001b[38;5;124m\"\u001b[39m\u001b[38;5;124mR1\u001b[39m\u001b[38;5;124m\"\u001b[39m)\n",
      "\u001b[1;31mValueError\u001b[0m: math domain error"
     ]
    }
   ],
   "source": [
    "import math\n",
    "\n",
    "A  = float(input(\"First numbers: \"))\n",
    "B  = float(input(\"Second number: \"))\n",
    "C  = float(input(\"Third number: \"))\n",
    "D  = float(input(\"Fourth number: \"))\n",
    "\n",
    "Y = -B/A\n",
    "E =  C/A\n",
    "X = -D/A\n",
    "\n",
    "print (\"The first  is: \",Y)\n",
    "print (\"The second  is: \",E)\n",
    "print (\"The third  is: \",X)\n",
    "\n",
    "J = (Y+E+X)/2\n",
    "R1 = math.sqrt(J)\n",
    "\n",
    "\n",
    "print (\"R1\")\n"
   ]
  },
  {
   "cell_type": "markdown",
   "id": "fa296706",
   "metadata": {},
   "source": [
    "##### "
   ]
  }
 ],
 "metadata": {
  "kernelspec": {
   "display_name": "Python 3 (ipykernel)",
   "language": "python",
   "name": "python3"
  },
  "language_info": {
   "codemirror_mode": {
    "name": "ipython",
    "version": 3
   },
   "file_extension": ".py",
   "mimetype": "text/x-python",
   "name": "python",
   "nbconvert_exporter": "python",
   "pygments_lexer": "ipython3",
   "version": "3.10.9"
  }
 },
 "nbformat": 4,
 "nbformat_minor": 5
}
