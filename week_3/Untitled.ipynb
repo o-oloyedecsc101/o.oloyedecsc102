{
 "cells": [
  {
   "cell_type": "code",
   "execution_count": 1,
   "id": "6c82aa99",
   "metadata": {},
   "outputs": [
    {
     "name": "stdout",
     "output_type": "stream",
     "text": [
      "Enter your state of origin:ogun\n",
      "Your state of origin is:    ogun\n",
      "The first character is:   o\n",
      "The characters starting from 3rd to 5th are:   un\n",
      "The string starting from 3rd character is:   un\n",
      "State of origin two times  ogunogun\n"
     ]
    }
   ],
   "source": [
    "str = input(\"Enter your state of origin:\")\n",
    "\n",
    "print (\"Your state of origin is:   \", str)\n",
    "print (\"The first character is:  \", str[0])\n",
    "print (\"The characters starting from 3rd to 5th are:  \", str[2:5])\n",
    "print (\"The string starting from 3rd character is:  \", str[2:])\n",
    "print (\"State of origin two times \",  str * 2)"
   ]
  },
  {
   "cell_type": "code",
   "execution_count": 2,
   "id": "bf987fd9",
   "metadata": {},
   "outputs": [
    {
     "name": "stdout",
     "output_type": "stream",
     "text": [
      "Enter mass in kilograms: 657\n",
      "The energy equivalent to 657.0 kg of mass is 6.40761857217785e+24 joules.\n"
     ]
    }
   ],
   "source": [
    "m = float(input(\"Enter mass in kilograms: \"))\n",
    "c = 98756488889\n",
    "energy = m * c **2\n",
    "print(f\"The energy equivalent to {m} kg of mass is {energy} joules.\")"
   ]
  },
  {
   "cell_type": "code",
   "execution_count": 3,
   "id": "7859a9c1",
   "metadata": {},
   "outputs": [
    {
     "name": "stdout",
     "output_type": "stream",
     "text": [
      "('Ekiti', 750, 'Oshogbo', 250, 'Akure', 500)\n",
      "500\n",
      "('Oshogbo', 250)\n",
      "(250, 'Akure', 500)\n",
      "('Abeokuta', 500, 'Ogbomoso', 'Abeokuta', 500, 'Ogbomoso', 'Abeokuta', 500, 'Ogbomoso')\n",
      "('Ekiti', 750, 'Oshogbo', 250, 'Akure', 500, 'Abeokuta', 500, 'Ogbomoso')\n"
     ]
    }
   ],
   "source": [
    "tuple = (\"Ekiti\", 750, \"Oshogbo\", 250, \"Akure\", 500)\n",
    "s_tuple = (\"Abeokuta\", 500, \"Ogbomoso\")\n",
    "print(tuple)\n",
    "print (tuple[-1])\n",
    "print (tuple[2:4])\n",
    "print (tuple[3:])\n",
    "print (s_tuple * 3)\n",
    "print (tuple + s_tuple)"
   ]
  },
  {
   "cell_type": "code",
   "execution_count": 5,
   "id": "b96393ed",
   "metadata": {},
   "outputs": [
    {
     "name": "stdout",
     "output_type": "stream",
     "text": [
      "False\n",
      "False\n",
      "False\n",
      "False\n",
      "True\n"
     ]
    }
   ],
   "source": [
    "game_1 = 2\n",
    "game_2 = 4\n",
    "print(bool(game_1 == game_2))\n",
    "print(game_1 == game_2)\n",
    "val = None\n",
    "print(bool(val))\n",
    "num = ()\n",
    "print(bool(num))\n",
    "age = True \n",
    "print(bool(age))\n"
   ]
  },
  {
   "cell_type": "code",
   "execution_count": null,
   "id": "84deb032",
   "metadata": {},
   "outputs": [],
   "source": []
  }
 ],
 "metadata": {
  "kernelspec": {
   "display_name": "Python 3 (ipykernel)",
   "language": "python",
   "name": "python3"
  },
  "language_info": {
   "codemirror_mode": {
    "name": "ipython",
    "version": 3
   },
   "file_extension": ".py",
   "mimetype": "text/x-python",
   "name": "python",
   "nbconvert_exporter": "python",
   "pygments_lexer": "ipython3",
   "version": "3.10.9"
  }
 },
 "nbformat": 4,
 "nbformat_minor": 5
}
