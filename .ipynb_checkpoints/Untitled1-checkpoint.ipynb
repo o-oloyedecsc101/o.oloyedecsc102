{
 "cells": [
  {
   "cell_type": "code",
   "execution_count": null,
   "id": "f8acb542",
   "metadata": {},
   "outputs": [],
   "source": [
    "import pandas as pd\n",
    "\n",
    "# Input the personal details of the students\n",
    "student_data = {\n",
    "    'Student Name': ['Oluchi mordi, Adams aliyu, shanai bolade, Adekunle gold, blanca edemoh'],\n",
    "    'Matric Number': ['ACC102111111, ECO101110101, CSC10328828, EEE11020202, MEE10202201'],\n",
    "    'Department': ['Accounting, Economics, Computer, Electrical ,Mechanical'],\n",
    "    'Level': ['300, 100, 200, 200, 100']\n",
    "}\n",
    "\n",
    "num_students = 5  # Number of students to input\n",
    "\n",
    "for i in range(num_students):\n",
    "    name = input(f\"Enter the name of student {i+1}: \")\n",
    "    matric_number = input(f\"Enter the matric number of student {i+1}: \")\n",
    "    department = input(f\"Enter the department of student {i+1}: \")\n",
    "    level = input(f\"Enter the level of student {i+1}: \")\n",
    "    \n",
    "    student_data['Student Name'].append(name)\n",
    "    student_data['Matric Number'].append(matric_number)\n",
    "    student_data['Department'].append(department)\n",
    "    student_data['Level'].append(level)\n",
    "\n",
    "# Create a DataFrame from the student data\n",
    "df = pd.DataFrame(student_data)\n",
    "\n",
    "# Display the DataFrame\n",
    "print(df)\n",
    "\n",
    "# Save the DataFrame to an Excel file\n",
    "excel_filename = 'student_details.xlsx'\n",
    "df.to_excel(excel_filename, index=False)\n",
    "print(f\"DataFrame saved to {excel_filename} successfully.\")"
   ]
  },
  {
   "cell_type": "code",
   "execution_count": 2,
   "id": "f21c0efb",
   "metadata": {},
   "outputs": [
    {
     "name": "stdout",
     "output_type": "stream",
     "text": [
      "DataFrame saved to company_details.xlsx successfully.\n"
     ]
    }
   ],
   "source": [
    "import pandas as pd\n",
    "\n",
    "# Input the company details\n",
    "companies = ['Eron', 'Anderson', 'GK Jones', 'Mica', 'Dune']\n",
    "company_shares = [1000000, 1500000, 3000000, 250000, 800000]\n",
    "company_liabilities = [200000, 500000, 1500000, 50000, 300000]\n",
    "dates = [1987, 1936, 2001, 1996, 2008]\n",
    "\n",
    "# Calculate the percentage leverage for each company\n",
    "percent_leverages = [(liabilities / shares) * 100 for liabilities, shares in zip(company_liabilities, company_shares)]\n",
    "\n",
    "# Create a DataFrame from the company data\n",
    "company_data = {\n",
    "    'Company': companies,\n",
    "    'Shares': company_shares,\n",
    "    'Liabilities': company_liabilities,\n",
    "    'Date Founded': dates,\n",
    "    'Percentage Leverage': percent_leverages\n",
    "}\n",
    "\n",
    "df = pd.DataFrame(company_data)\n",
    "\n",
    "# Save the DataFrame to an Excel file\n",
    "excel_filename = 'company_details.xlsx'\n",
    "df.to_excel(excel_filename, index=False)\n",
    "print(f\"DataFrame saved to {excel_filename} successfully.\")\n"
   ]
  },
  {
   "cell_type": "code",
   "execution_count": null,
   "id": "3aa0dce4",
   "metadata": {},
   "outputs": [],
   "source": []
  }
 ],
 "metadata": {
  "kernelspec": {
   "display_name": "Python 3 (ipykernel)",
   "language": "python",
   "name": "python3"
  },
  "language_info": {
   "codemirror_mode": {
    "name": "ipython",
    "version": 3
   },
   "file_extension": ".py",
   "mimetype": "text/x-python",
   "name": "python",
   "nbconvert_exporter": "python",
   "pygments_lexer": "ipython3",
   "version": "3.10.9"
  }
 },
 "nbformat": 4,
 "nbformat_minor": 5
}
