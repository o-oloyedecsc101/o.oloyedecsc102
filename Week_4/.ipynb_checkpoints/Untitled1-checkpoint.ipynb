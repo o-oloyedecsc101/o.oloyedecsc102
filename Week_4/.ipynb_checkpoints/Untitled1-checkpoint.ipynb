{
 "cells": [
  {
   "cell_type": "code",
   "execution_count": 2,
   "id": "84e0a7b3",
   "metadata": {},
   "outputs": [
    {
     "name": "stdout",
     "output_type": "stream",
     "text": [
      "Name | Age | Height | Score\n",
      "Samantha | 17 | 5.5 | 53\n",
      "jada | 18 | 6.0 | 77\n",
      "jane | 16 | 4.9 | 55\n",
      "Claire | 14 | 5.9 | 57\n",
      "Elizabeth | 20 | 3.0 | 67\n",
      "Mary | 13 | 4.9 | 56\n",
      "Susan | 15 | 5.0 | 78\n",
      "Waje | 26 | 7.0 | 56\n",
      "Tabibat | 23 | 6.1 | 67\n",
      "lilian | 22 | 9.1 | 89\n",
      "Charles | 12 | 5.7 | 89\n",
      "Jude | 23 | 5.4 | 78\n",
      "james | 23 | 5.3 | 67\n",
      "Kelvin | 23 | 4.2 | 57\n",
      "Biodun | 23 | 3.2 | 57\n",
      "Wale | 16 | 9.0 | 57\n",
      "Matthew | 22 | 4.5 | 78\n",
      "Tom | 20 | 4.7 | 57\n",
      "kayode | 12 | 5.9 | 56\n"
     ]
    }
   ],
   "source": [
    "Name = ['Samantha', 'jada', 'jane', 'Claire', 'Elizabeth', 'Mary', 'Susan', 'Waje', 'Tabibat', 'lilian', 'Charles', 'Jude', 'james', 'Kelvin', 'Biodun', 'Wale', 'Matthew', 'Tom', 'kayode']\n",
    "Age = ['17', '18', '16', '14', '20', '13', '15', '26', '23', '22', '12', '23', '23', '23', '23', '16', '22', '20', '12']\n",
    "Height = ['5.5', '6.0', '4.9', '5.9', '3.0', '4.9', '5.0', '7.0', '6.1', '9.1', '5.7', '5.4', '5.3', '4.2', '3.2', '9.0', '4.5', '4.7', '5.9', '7.0']\n",
    "Score = ['53', '77', '55', '57', '67', '56', '78', '56', '67', '89', '89', '78', '67', '57', '57', '57', '78', '57', '56', '45', '67', '67', '67']\n",
    "\n",
    "print(\"Name | Age | Height | Score\")\n",
    "for i in range(len(Name)):\n",
    "    print(Name[i], \"|\", Age[i], \"|\", Height[i], \"|\", Score[i])\n"
   ]
  },
  {
   "cell_type": "code",
   "execution_count": 5,
   "id": "113275f5",
   "metadata": {},
   "outputs": [
    {
     "name": "stdout",
     "output_type": "stream",
     "text": [
      "Enter your age please: 54\n",
      "Age: 54.0\n",
      "Enter your Experience: 12\n",
      "Experience: 12.0\n",
      "atr is 15,000,000\n"
     ]
    }
   ],
   "source": [
    "num = float(input(\"Enter your age please: \"))\n",
    "print(\"Age:\", num)\n",
    "\n",
    "num_2 = float(input(\"Enter your Experience: \"))\n",
    "print(\"Experience:\", num_2)\n",
    "\n",
    "if num_2 > 25 and num > 55:\n",
    "   print(\"atris56,000,000,000\")\n",
    "elif  num_2 > 20 and num > 45:\n",
    "    print (\"atr is 46,000,000\")\n",
    "elif num_2 > 10 and num > 35:\n",
    "    print(\"atr is 15,000,000\")\n",
    "elif num_2 > 5 and num > 25:\n",
    "    print (\"atr is 550,000\")\n",
    "else:\n",
    "    print(\"PLEASE KINDLY GET OUT\")\n",
    "\n",
    "\n"
   ]
  },
  {
   "cell_type": "code",
   "execution_count": null,
   "id": "6234e30f",
   "metadata": {},
   "outputs": [],
   "source": []
  }
 ],
 "metadata": {
  "kernelspec": {
   "display_name": "Python 3 (ipykernel)",
   "language": "python",
   "name": "python3"
  },
  "language_info": {
   "codemirror_mode": {
    "name": "ipython",
    "version": 3
   },
   "file_extension": ".py",
   "mimetype": "text/x-python",
   "name": "python",
   "nbconvert_exporter": "python",
   "pygments_lexer": "ipython3",
   "version": "3.10.9"
  }
 },
 "nbformat": 4,
 "nbformat_minor": 5
}
