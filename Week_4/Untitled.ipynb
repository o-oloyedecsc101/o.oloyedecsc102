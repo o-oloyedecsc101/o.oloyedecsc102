{
 "cells": [
  {
   "cell_type": "code",
   "execution_count": 2,
   "id": "1df1737c",
   "metadata": {},
   "outputs": [
    {
     "name": "stdout",
     "output_type": "stream",
     "text": [
      "Enter name of City  1:  Lagos\n",
      "Enter name of City  2:  Ogun\n",
      "The name of city 1 after swapping is Ogun\n",
      "The name of city 2 after swapping is Lagos\n"
     ]
    }
   ],
   "source": [
    "city_1 = input('Enter name of City  1:  ')\n",
    "city_2 = input('Enter name of City  2:  ')\n",
    "\n",
    "\n",
    "temp = city_1\n",
    "city_1 = city_2\n",
    "city_2 = temp\n",
    "\n",
    "\n",
    "print(f\"The name of city 1 after swapping is {city_1}\")\n",
    "print(f\"The name of city 2 after swapping is {city_2}\")\n",
    "\n"
   ]
  },
  {
   "cell_type": "code",
   "execution_count": 6,
   "id": "16e1df0b",
   "metadata": {},
   "outputs": [
    {
     "name": "stdout",
     "output_type": "stream",
     "text": [
      "Enter a number: -5\n",
      "Negative number\n"
     ]
    }
   ],
   "source": [
    "num = float(input(\"Enter a number: \"))\n",
    "if num > 0:\n",
    "    print(\"Postive number\")\n",
    "elif num == 0:\n",
    "    print(\"Zero\")\n",
    "else:\n",
    "    print(\"Negative number\")"
   ]
  },
  {
   "cell_type": "code",
   "execution_count": 10,
   "id": "0432fb37",
   "metadata": {},
   "outputs": [
    {
     "name": "stdout",
     "output_type": "stream",
     "text": [
      "Welcome to the Coupe de escriva 2023: FOOTBALL PICKS\n",
      "\n",
      "Madiba:  Chubby Obiora- okafo\n",
      "Blue_jays:   Christopher Uweh\n",
      "Cirok:  Alexander\n",
      "TSG WALKERS:   Ikechukwu\n",
      "\n",
      "\n",
      "Madiba Chubby Obira-okafo\n",
      "Blue-jays:  Oladimeji Abaniwondea/Jeffery Awagu\n",
      "Cirock: Timeleyyin pearse/izuako jeremy\n",
      "TSG WALKER:  Ayomide ojituku\n"
     ]
    }
   ],
   "source": [
    "print (\"Welcome to the Coupe de escriva 2023: FOOTBALL PICKS\\n\")\n",
    "\n",
    "captain = {'Madiba: ': 'Chubby Obiora- okafo',  'Blue_jays:  ': 'Christopher Uweh',\n",
    "          'Cirok: ': 'Alexander', 'TSG WALKERS:  ': 'Ikechukwu'}\n",
    "goalkeepers = {'Madiba': 'Chubby Obira-okafo',\n",
    "              'Blue-jays: ': 'Oladimeji Abaniwondea/Jeffery Awagu',\n",
    "              'Cirock:': 'Timeleyyin pearse/izuako jeremy',\n",
    "              'TSG WALKER: ': 'Ayomide ojituku'}\n",
    "\n",
    "for pick in captain:\n",
    "    print(pick, captain[pick])\n",
    "    \n",
    "print(\"\\n\")\n",
    "\n",
    "for pick in goalkeepers:\n",
    "    print(pick, goalkeepers[pick])"
   ]
  },
  {
   "cell_type": "code",
   "execution_count": null,
   "id": "c8f9b909",
   "metadata": {},
   "outputs": [],
   "source": []
  }
 ],
 "metadata": {
  "kernelspec": {
   "display_name": "Python 3 (ipykernel)",
   "language": "python",
   "name": "python3"
  },
  "language_info": {
   "codemirror_mode": {
    "name": "ipython",
    "version": 3
   },
   "file_extension": ".py",
   "mimetype": "text/x-python",
   "name": "python",
   "nbconvert_exporter": "python",
   "pygments_lexer": "ipython3",
   "version": "3.10.9"
  }
 },
 "nbformat": 4,
 "nbformat_minor": 5
}
