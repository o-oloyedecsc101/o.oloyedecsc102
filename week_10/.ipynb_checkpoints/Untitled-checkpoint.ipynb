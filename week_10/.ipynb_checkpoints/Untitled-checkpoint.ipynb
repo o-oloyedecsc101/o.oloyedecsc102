{
 "cells": [
  {
   "cell_type": "code",
   "execution_count": null,
   "id": "05c7b0d4",
   "metadata": {},
   "outputs": [
    {
     "name": "stdout",
     "output_type": "stream",
     "text": [
      "Select an equation to calculate:\n",
      "1. Area of Trapezium\n",
      "2. Area of Rhombus\n",
      "3. Area of Parallelogram\n",
      "4. Area of Cube\n",
      "5. Volume of Cylinder\n"
     ]
    }
   ],
   "source": [
    "import math\n",
    "\n",
    "class ShapeCalculator:\n",
    "    def __init__(self):\n",
    "        pass\n",
    "\n",
    "    def calculate_area_of_trapezium(self):\n",
    "        height = float(input(\"Enter the height: \"))\n",
    "        base1 = float(input(\"Enter the base1: \"))\n",
    "        base2 = float(input(\"Enter the base2: \"))\n",
    "        area = (height / 2) * (base1 + base2)\n",
    "        print(f\"The area of the trapezium is: {area}\")\n",
    "\n",
    "    def calculate_area_of_rhombus(self):\n",
    "        diagonal1 = float(input(\"Enter the diagonal1: \"))\n",
    "        diagonal2 = float(input(\"Enter the diagonal2: \"))\n",
    "        area = 0.5 * diagonal1 * diagonal2\n",
    "        print(f\"The area of the rhombus is: {area}\")\n",
    "\n",
    "    def calculate_area_of_parallelogram(self):\n",
    "        base = float(input(\"Enter the base: \"))\n",
    "        altitude = float(input(\"Enter the altitude: \"))\n",
    "        area = base * altitude\n",
    "        print(f\"The area of the parallelogram is: {area}\")\n",
    "\n",
    "    def calculate_area_of_cube(self):\n",
    "        side_length = float(input(\"Enter the length of the side: \"))\n",
    "        area = 6 * (side_length ** 2)\n",
    "        print(f\"The area of the cube is: {area}\")\n",
    "\n",
    "    def calculate_volume_of_cylinder(self):\n",
    "        radius = float(input(\"Enter the radius: \"))\n",
    "        height = float(input(\"Enter the height: \"))\n",
    "        volume = math.pi * (radius ** 2) * height\n",
    "        print(f\"The volume of the cylinder is: {volume}\")\n",
    "\n",
    "\n",
    "calc = ShapeCalculator()\n",
    "\n",
    "print(\"Select an equation to calculate:\")\n",
    "print(\"1. Area of Trapezium\")\n",
    "print(\"2. Area of Rhombus\")\n",
    "print(\"3. Area of Parallelogram\")\n",
    "print(\"4. Area of Cube\")\n",
    "print(\"5. Volume of Cylinder\")\n",
    "\n",
    "choice = int(input(\"Enter your choice (1-5): \"))\n",
    "\n",
    "if choice == 1:\n",
    "    calc.calculate_area_of_trapezium()\n",
    "elif choice == 2:\n",
    "    calc.calculate_area_of_rhombus()\n",
    "elif choice == 3:\n",
    "    calc.calculate_area_of_parallelogram()\n",
    "elif choice == 4:\n",
    "    calc.calculate_area_of_cube()\n",
    "elif choice == 5:\n",
    "    calc.calculate_volume_of_cylinder()\n",
    "else:\n",
    "    print(\"Invalid choice.\")\n"
   ]
  },
  {
   "cell_type": "code",
   "execution_count": null,
   "id": "dd1ea764",
   "metadata": {},
   "outputs": [],
   "source": [
    "class Purchase:\n",
    "    def __init__(self, stock):\n",
    "        self.stock = stock\n",
    "\n",
    "    def buy_oranges(self, oranges_to_buy):\n",
    "        if oranges_to_buy > self.stock:\n",
    "            print(f\"Select a quantity less than {self.stock}.\")\n",
    "        else:\n",
    "            cost = oranges_to_buy * 5  # Assuming each orange costs N5\n",
    "            print(f\"You have successfully bought {oranges_to_buy} oranges.\")\n",
    "            print(f\"Total cost: N{cost}\")\n",
    "\n",
    "# Example usage\n",
    "stock = 20\n",
    "purchase = Purchase(stock)\n",
    "\n",
    "oranges_to_buy = int(input(\"Enter the number of oranges you want: \"))\n",
    "purchase.buy_oranges(oranges_to_buy)\n"
   ]
  }
 ],
 "metadata": {
  "kernelspec": {
   "display_name": "Python 3 (ipykernel)",
   "language": "python",
   "name": "python3"
  },
  "language_info": {
   "codemirror_mode": {
    "name": "ipython",
    "version": 3
   },
   "file_extension": ".py",
   "mimetype": "text/x-python",
   "name": "python",
   "nbconvert_exporter": "python",
   "pygments_lexer": "ipython3",
   "version": "3.10.9"
  }
 },
 "nbformat": 4,
 "nbformat_minor": 5
}
